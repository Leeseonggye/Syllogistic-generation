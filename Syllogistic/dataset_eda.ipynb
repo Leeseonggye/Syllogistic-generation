{
 "cells": [
  {
   "cell_type": "code",
   "execution_count": 2,
   "metadata": {},
   "outputs": [],
   "source": [
    "import pandas as pd"
   ]
  },
  {
   "cell_type": "code",
   "execution_count": 3,
   "metadata": {},
   "outputs": [],
   "source": [
    "data_combination_list = ['aug_pair', 'ori_mix', 'aug_mix']\n"
   ]
  },
  {
   "cell_type": "code",
   "execution_count": 4,
   "metadata": {},
   "outputs": [],
   "source": [
    "data = pd.read_csv(\"/root/syllogistic/syllogistic-generation/datasets/bart_aug_mix_num_augmentation_until_1_filtering_true_epoch_6.csv\")"
   ]
  },
  {
   "cell_type": "code",
   "execution_count": 5,
   "metadata": {},
   "outputs": [
    {
     "data": {
      "text/plain": [
       "4520"
      ]
     },
     "execution_count": 5,
     "metadata": {},
     "output_type": "execute_result"
    }
   ],
   "source": [
    "len(data)"
   ]
  },
  {
   "cell_type": "code",
   "execution_count": 6,
   "metadata": {},
   "outputs": [
    {
     "name": "stdout",
     "output_type": "stream",
     "text": [
      "aug_pair+1_6:377\n",
      "aug_pair+2_6:862\n",
      "aug_pair+3_6:1241\n",
      "ori_mix+1_6:1716\n",
      "ori_mix+2_6:3847\n",
      "ori_mix+3_6:5737\n",
      "aug_mix+1_6:2093\n",
      "aug_mix+2_6:4709\n",
      "aug_mix+3_6:6978\n",
      "aug_pair+1_7:368\n",
      "aug_pair+2_7:898\n",
      "aug_pair+3_7:1287\n",
      "ori_mix+1_7:1723\n",
      "ori_mix+2_7:3914\n",
      "ori_mix+3_7:5807\n",
      "aug_mix+1_7:2091\n",
      "aug_mix+2_7:4812\n",
      "aug_mix+3_7:7094\n",
      "aug_pair+1_8:366\n",
      "aug_pair+2_8:890\n",
      "aug_pair+3_8:1266\n",
      "ori_mix+1_8:1687\n",
      "ori_mix+2_8:3839\n",
      "ori_mix+3_8:5759\n",
      "aug_mix+1_8:2053\n",
      "aug_mix+2_8:4729\n",
      "aug_mix+3_8:7025\n"
     ]
    }
   ],
   "source": [
    "for aug_epoch in range(6,9):\n",
    "    for combination in data_combination_list:\n",
    "        for iteration in range(1,4):\n",
    "            data = pd.read_csv(f\"/root/syllogistic/syllogistic-generation/datasets/bart_{combination}_num_augmentation_until_{iteration}_filtering_true_epoch_{aug_epoch}.csv\")\n",
    "            print(f\"{combination}+{iteration}_{aug_epoch}:{len(data)-2427}\")"
   ]
  },
  {
   "cell_type": "code",
   "execution_count": 8,
   "metadata": {},
   "outputs": [
    {
     "name": "stdout",
     "output_type": "stream",
     "text": [
      "2804(+377)\n",
      "3289(+862)\n",
      "3668(+1241)\n",
      "4143(+1716)\n",
      "6274(+3847)\n",
      "8164(+5737)\n",
      "4520(+2093)\n",
      "7136(+4709)\n",
      "9405(+6978)\n",
      "2795(+368)\n",
      "3325(+898)\n",
      "3714(+1287)\n",
      "4150(+1723)\n",
      "6341(+3914)\n",
      "8234(+5807)\n",
      "4518(+2091)\n",
      "7239(+4812)\n",
      "9521(+7094)\n",
      "2793(+366)\n",
      "3317(+890)\n",
      "3693(+1266)\n",
      "4114(+1687)\n",
      "6266(+3839)\n",
      "8186(+5759)\n",
      "4480(+2053)\n",
      "7156(+4729)\n",
      "9452(+7025)\n",
      "5507.2962962962965\n"
     ]
    }
   ],
   "source": [
    "sum = 0\n",
    "for aug_epoch in range(6,9):\n",
    "    for combination in data_combination_list:\n",
    "        for iteration in range(1,4):\n",
    "            data = pd.read_csv(f\"/root/syllogistic/syllogistic-generation/datasets/bart_{combination}_num_augmentation_until_{iteration}_filtering_true_epoch_{aug_epoch}.csv\")\n",
    "            print(f\"{len(data)}(+{len(data)-2427})\")\n",
    "            sum = sum+len(data)\n",
    "\n",
    "print(sum/27)"
   ]
  },
  {
   "cell_type": "code",
   "execution_count": 9,
   "metadata": {},
   "outputs": [
    {
     "data": {
      "text/plain": [
       "3080"
      ]
     },
     "execution_count": 9,
     "metadata": {},
     "output_type": "execute_result"
    }
   ],
   "source": [
    "5507-2427"
   ]
  },
  {
   "cell_type": "code",
   "execution_count": null,
   "metadata": {},
   "outputs": [],
   "source": []
  }
 ],
 "metadata": {
  "kernelspec": {
   "display_name": "Python 3",
   "language": "python",
   "name": "python3"
  },
  "language_info": {
   "codemirror_mode": {
    "name": "ipython",
    "version": 3
   },
   "file_extension": ".py",
   "mimetype": "text/x-python",
   "name": "python",
   "nbconvert_exporter": "python",
   "pygments_lexer": "ipython3",
   "version": "3.8.10"
  },
  "orig_nbformat": 4
 },
 "nbformat": 4,
 "nbformat_minor": 2
}
